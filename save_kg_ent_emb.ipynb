{
 "cells": [
  {
   "cell_type": "code",
   "execution_count": 10,
   "metadata": {},
   "outputs": [],
   "source": [
    "import torch\n",
    "import torch.nn as nn\n",
    "import openke\n",
    "from openke.config import Trainer, Tester\n",
    "from openke.module.model import TransE\n",
    "from openke.module.loss import MarginLoss\n",
    "from openke.module.strategy import NegativeSampling\n",
    "from openke.data import TrainDataLoader, TestDataLoader"
   ]
  },
  {
   "cell_type": "code",
   "execution_count": 3,
   "metadata": {},
   "outputs": [
    {
     "name": "stdout",
     "output_type": "stream",
     "text": [
      "Input Files Path : /home/user4/data/research/nsfc-kg/OpenKE/benchmarks/NSFC/\n",
      "The toolkit is importing datasets.\n",
      "The total of relations is 4.\n",
      "The total of entities is 1501027.\n",
      "The code reached Here. The total of entities is 1501027.\n",
      "The code reached Here. The total of entities is 1501027.\n",
      "The total of train triples is 500000.\n"
     ]
    }
   ],
   "source": [
    "train_dataloader = TrainDataLoader(\n",
    "\tin_path = \"/home/user4/data/research/nsfc-kg/OpenKE/benchmarks/NSFC/\", \n",
    "\tnbatches = 100,\n",
    "\tthreads = 8, \n",
    "\tsampling_mode = \"normal\", \n",
    "\tbern_flag = 1, \n",
    "\tfilter_flag = 1, \n",
    "\tneg_ent = 25,\n",
    "\tneg_rel = 0)"
   ]
  },
  {
   "cell_type": "code",
   "execution_count": 5,
   "metadata": {},
   "outputs": [],
   "source": [
    "checkpoint = './checkpoint/nsfc/transe_50w.ckpt'\n",
    "transe = TransE(\n",
    "\tent_tot = train_dataloader.get_ent_tot(),\n",
    "\trel_tot = train_dataloader.get_rel_tot(),\n",
    "\tdim = 200, \n",
    "\tp_norm = 1, \n",
    "\tnorm_flag = True)\n",
    "transe.load_checkpoint(checkpoint)"
   ]
  },
  {
   "cell_type": "code",
   "execution_count": 6,
   "metadata": {},
   "outputs": [],
   "source": [
    "ent_emb = transe.ent_embeddings.weight"
   ]
  },
  {
   "cell_type": "code",
   "execution_count": 10,
   "metadata": {},
   "outputs": [],
   "source": [
    "torch.save(ent_emb,'/home/user4/data/research/nsfc-kg/OpenKE/checkpoint/nsfc/transe_ent_embeddings.pt')"
   ]
  },
  {
   "cell_type": "code",
   "execution_count": 18,
   "metadata": {},
   "outputs": [],
   "source": [
    "new_emb = torch.load('/home/user4/data/research/nsfc-kg/OpenKE/checkpoint/nsfc/transe_ent_embeddings.pt')"
   ]
  },
  {
   "cell_type": "code",
   "execution_count": 20,
   "metadata": {},
   "outputs": [
    {
     "data": {
      "text/plain": [
       "Parameter containing:\n",
       "tensor([[-0.0012,  0.0015,  0.0020,  ..., -0.0027, -0.0015,  0.0015],\n",
       "        [ 0.0024, -0.0009,  0.0018,  ..., -0.0023,  0.0019, -0.0013],\n",
       "        [ 0.0012, -0.0019,  0.0024,  ...,  0.0024,  0.0009,  0.0007],\n",
       "        ...,\n",
       "        [ 0.0044,  0.0037, -0.0173,  ...,  0.0033, -0.0028, -0.0118],\n",
       "        [-0.0172,  0.0123,  0.0184,  ..., -0.0168,  0.0016, -0.0187],\n",
       "        [ 0.0043, -0.0008, -0.0001,  ...,  0.0075, -0.0115, -0.0076]],\n",
       "       requires_grad=True)"
      ]
     },
     "execution_count": 20,
     "metadata": {},
     "output_type": "execute_result"
    }
   ],
   "source": [
    "new_emb.weight"
   ]
  }
 ],
 "metadata": {
  "kernelspec": {
   "display_name": "Python 3.8.12 ('transformer')",
   "language": "python",
   "name": "python3"
  },
  "language_info": {
   "codemirror_mode": {
    "name": "ipython",
    "version": 3
   },
   "file_extension": ".py",
   "mimetype": "text/x-python",
   "name": "python",
   "nbconvert_exporter": "python",
   "pygments_lexer": "ipython3",
   "version": "3.8.12"
  },
  "orig_nbformat": 4,
  "vscode": {
   "interpreter": {
    "hash": "770ccce73f0b928be997026d75f469957a0f748dd31413a09d8fdb3371501771"
   }
  }
 },
 "nbformat": 4,
 "nbformat_minor": 2
}
